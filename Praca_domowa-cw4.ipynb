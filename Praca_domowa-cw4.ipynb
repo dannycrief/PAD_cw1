{
 "cells": [
  {
   "cell_type": "code",
   "execution_count": 1,
   "id": "1f6ff111",
   "metadata": {},
   "outputs": [],
   "source": [
    "import numpy as np\n",
    "import pandas as pd"
   ]
  },
  {
   "cell_type": "markdown",
   "id": "c650c89a",
   "metadata": {},
   "source": [
    "# Zadanie 1"
   ]
  },
  {
   "cell_type": "code",
   "execution_count": 2,
   "id": "200a0df8",
   "metadata": {},
   "outputs": [],
   "source": [
    "df = pd.read_csv('DATA/cw4/Zadanie_1.csv', sep=';')"
   ]
  },
  {
   "cell_type": "code",
   "execution_count": 3,
   "id": "1a9b338f",
   "metadata": {},
   "outputs": [],
   "source": [
    "np_from_df = df.to_numpy()"
   ]
  },
  {
   "cell_type": "code",
   "execution_count": 4,
   "id": "5bb7a104",
   "metadata": {},
   "outputs": [
    {
     "name": "stdout",
     "output_type": "stream",
     "text": [
      "The size of marix is 960\n"
     ]
    }
   ],
   "source": [
    "print(f\"The size of marix is {np_from_df.size}\")"
   ]
  },
  {
   "cell_type": "code",
   "execution_count": 5,
   "id": "79e42403",
   "metadata": {},
   "outputs": [],
   "source": [
    "rows, columns = np_from_df.shape"
   ]
  },
  {
   "cell_type": "code",
   "execution_count": 6,
   "id": "88a0f83f",
   "metadata": {},
   "outputs": [
    {
     "name": "stdout",
     "output_type": "stream",
     "text": [
      "The matrix has 60 rows\n",
      "The matrix has 16 columns\n"
     ]
    }
   ],
   "source": [
    "print(f\"The matrix has {rows} rows\")\n",
    "print(f\"The matrix has {columns} columns\")"
   ]
  },
  {
   "cell_type": "code",
   "execution_count": 7,
   "id": "bef961af",
   "metadata": {},
   "outputs": [
    {
     "name": "stdout",
     "output_type": "stream",
     "text": [
      "The matrix mean is nan\n"
     ]
    }
   ],
   "source": [
    "print(f\"The matrix mean is {np_from_df.mean()}\")"
   ]
  },
  {
   "cell_type": "code",
   "execution_count": 8,
   "id": "34d6a183",
   "metadata": {},
   "outputs": [],
   "source": [
    "np_from_df_nan_zero = np.nan_to_num(np_from_df) # replace nan to zero"
   ]
  },
  {
   "cell_type": "code",
   "execution_count": 9,
   "id": "211249db",
   "metadata": {},
   "outputs": [
    {
     "name": "stdout",
     "output_type": "stream",
     "text": [
      "The matrix mean is 331.17\n",
      "The matrix median is 32.0\n",
      "The matrix mean is 1017213.94\n"
     ]
    }
   ],
   "source": [
    "print(f\"The matrix mean is {round(np.nanmean(np_from_df_nan_zero),2)}\")\n",
    "print(f\"The matrix median is {round(np.nanmedian(np_from_df_nan_zero),2)}\")\n",
    "print(f\"The matrix mean is {round(np.nanvar(np_from_df_nan_zero),2)}\")"
   ]
  },
  {
   "cell_type": "code",
   "execution_count": 10,
   "id": "3cc3671a",
   "metadata": {},
   "outputs": [],
   "source": [
    "np_from_df_not_nan = np_from_df[~np.isnan(np_from_df)] # remove nan from df"
   ]
  },
  {
   "cell_type": "code",
   "execution_count": 11,
   "id": "0228702b",
   "metadata": {},
   "outputs": [
    {
     "name": "stdout",
     "output_type": "stream",
     "text": [
      "The matrix mean is 338.22\n",
      "The matrix median is 33.4\n",
      "The matrix mean is 1036473.59\n"
     ]
    }
   ],
   "source": [
    "print(f\"The matrix mean is {round(np.mean(np_from_df_not_nan),2)}\")\n",
    "print(f\"The matrix median is {round(np.median(np_from_df_not_nan),2)}\")\n",
    "print(f\"The matrix mean is {round(np.var(np_from_df_not_nan),2)}\")"
   ]
  },
  {
   "cell_type": "markdown",
   "id": "8f48f851",
   "metadata": {},
   "source": [
    "# Zadanie 2"
   ]
  },
  {
   "cell_type": "code",
   "execution_count": 16,
   "id": "28d664bc",
   "metadata": {},
   "outputs": [],
   "source": [
    "arr = np.genfromtxt('DATA/cw4/Zadanie_2.csv', delimiter=';')"
   ]
  },
  {
   "cell_type": "code",
   "execution_count": 24,
   "id": "5ffb8f91",
   "metadata": {},
   "outputs": [
    {
     "name": "stdout",
     "output_type": "stream",
     "text": [
      "Wartości własne: [104.34960192 +0.j         -23.35660516+18.84992811j\n",
      " -23.35660516-18.84992811j  15.92989017 +0.j\n",
      "  -4.99456452 +0.j           0.35205717 +5.80125175j\n",
      "   0.35205717 -5.80125175j  -1.03383491 +0.j\n",
      "   3.87900166 +1.42651533j   3.87900166 -1.42651533j]\n"
     ]
    }
   ],
   "source": [
    "print(f\"Wartości własne: {np.linalg.eigvals(arr)}\")"
   ]
  },
  {
   "cell_type": "code",
   "execution_count": 25,
   "id": "2aac8236",
   "metadata": {},
   "outputs": [
    {
     "name": "stdout",
     "output_type": "stream",
     "text": [
      "Wektor własny: (array([104.34960192 +0.j        , -23.35660516+18.84992811j,\n",
      "       -23.35660516-18.84992811j,  15.92989017 +0.j        ,\n",
      "        -4.99456452 +0.j        ,   0.35205717 +5.80125175j,\n",
      "         0.35205717 -5.80125175j,  -1.03383491 +0.j        ,\n",
      "         3.87900166 +1.42651533j,   3.87900166 -1.42651533j]), array([[-0.29000475+0.j        , -0.07545445+0.07743149j,\n",
      "        -0.07545445-0.07743149j, -0.03544485+0.j        ,\n",
      "         0.42681634+0.j        , -0.22172831-0.29869259j,\n",
      "        -0.22172831+0.29869259j,  0.41343726+0.j        ,\n",
      "        -0.28670255+0.21891569j, -0.28670255-0.21891569j],\n",
      "       [-0.24163153+0.j        ,  0.41229621+0.09197324j,\n",
      "         0.41229621-0.09197324j,  0.45873475+0.j        ,\n",
      "        -0.27056206+0.j        , -0.01331344+0.1422557j ,\n",
      "        -0.01331344-0.1422557j , -0.31591047+0.j        ,\n",
      "         0.41954481-0.10561864j,  0.41954481+0.10561864j],\n",
      "       [-0.41060573+0.j        ,  0.37509638-0.00960818j,\n",
      "         0.37509638+0.00960818j,  0.64067986+0.j        ,\n",
      "        -0.37967609+0.j        , -0.60525232+0.j        ,\n",
      "        -0.60525232-0.j        ,  0.6457768 +0.j        ,\n",
      "         0.63631555+0.j        ,  0.63631555-0.j        ],\n",
      "       [-0.18899971+0.j        , -0.05624951+0.174848j  ,\n",
      "        -0.05624951-0.174848j  ,  0.25174536+0.j        ,\n",
      "        -0.07625465+0.j        , -0.14870016-0.00795735j,\n",
      "        -0.14870016+0.00795735j,  0.15206852+0.j        ,\n",
      "         0.21373907+0.00228636j,  0.21373907-0.00228636j],\n",
      "       [-0.42862199+0.j        ,  0.47707538+0.14580554j,\n",
      "         0.47707538-0.14580554j,  0.39445834+0.j        ,\n",
      "        -0.69542141+0.j        ,  0.07336021-0.43070469j,\n",
      "         0.07336021+0.43070469j, -0.25948775+0.j        ,\n",
      "         0.20250102-0.00411374j,  0.20250102+0.00411374j],\n",
      "       [-0.14730562+0.j        , -0.57352911+0.j        ,\n",
      "        -0.57352911-0.j        ,  0.10071325+0.j        ,\n",
      "         0.30158403+0.j        , -0.04758838+0.12911829j,\n",
      "        -0.04758838-0.12911829j,  0.21274791+0.j        ,\n",
      "        -0.1503483 +0.03452906j, -0.1503483 -0.03452906j],\n",
      "       [-0.34660607+0.j        , -0.13987374+0.06837303j,\n",
      "        -0.13987374-0.06837303j, -0.04800705+0.j        ,\n",
      "         0.06798106+0.j        ,  0.00512204+0.04215641j,\n",
      "         0.00512204-0.04215641j,  0.05365357+0.j        ,\n",
      "        -0.0534517 +0.00550802j, -0.0534517 -0.00550802j],\n",
      "       [-0.34919853+0.j        , -0.08414467+0.07749664j,\n",
      "        -0.08414467-0.07749664j,  0.25925893+0.j        ,\n",
      "        -0.10039982+0.j        , -0.06761437-0.25584347j,\n",
      "        -0.06761437+0.25584347j, -0.38214447+0.j        ,\n",
      "         0.29485109-0.01300678j,  0.29485109+0.01300678j],\n",
      "       [-0.2440048 +0.j        , -0.13777908+0.00402196j,\n",
      "        -0.13777908-0.00402196j,  0.27709282+0.j        ,\n",
      "        -0.00524365+0.j        ,  0.21866893+0.04463336j,\n",
      "         0.21866893-0.04463336j, -0.12045798+0.j        ,\n",
      "         0.27558332+0.02285482j,  0.27558332-0.02285482j],\n",
      "       [-0.38231403+0.j        , -0.00476199+0.03456836j,\n",
      "        -0.00476199-0.03456836j,  0.04918165+0.j        ,\n",
      "         0.07322815+0.j        ,  0.1819345 -0.29687727j,\n",
      "         0.1819345 +0.29687727j, -0.11445044+0.j        ,\n",
      "         0.02830199+0.00579727j,  0.02830199-0.00579727j]]))\n"
     ]
    }
   ],
   "source": [
    "print(f\"Wektor własny: {np.linalg.eig(arr)}\")"
   ]
  },
  {
   "cell_type": "code",
   "execution_count": 27,
   "id": "273686e4",
   "metadata": {},
   "outputs": [
    {
     "name": "stdout",
     "output_type": "stream",
     "text": [
      "Macierz odwrotna: [[ 0.47461371  0.13269253 -0.24726695 -0.82965177  0.28250384 -0.17012825\n",
      "   0.58274426  0.83686705  0.4146721  -1.56942847]\n",
      " [-0.38032531 -0.11226789  0.23216372  0.58853747 -0.2508954   0.10174485\n",
      "  -0.40729564 -0.58325689 -0.2335154   1.11832726]\n",
      " [ 0.13559662  0.58950334 -0.24709855 -0.58789838 -0.30170699 -0.12721938\n",
      "   0.23740295  1.01003036 -0.02151387 -0.64590149]\n",
      " [ 0.01425207  0.14570726 -0.04557569 -0.12721972 -0.08945184 -0.03756624\n",
      "   0.03910376  0.23606066 -0.01436771 -0.11345749]\n",
      " [-0.09473246  0.01725249  0.19145597  0.32960274 -0.28626296  0.08348529\n",
      "  -0.37577603 -0.27295934 -0.25855803  0.74691827]\n",
      " [ 0.16387032  0.10075684 -0.15404907 -0.29794662  0.16916877 -0.02827782\n",
      "   0.20469921  0.28036265  0.15086178 -0.5882585 ]\n",
      " [ 0.04288003  0.02246462 -0.0366803  -0.09024915  0.04322146 -0.01047861\n",
      "   0.06167348  0.07009721  0.0367806  -0.14185925]\n",
      " [-0.26858433 -0.21167346  0.25168367  0.55607234 -0.16804333  0.01066975\n",
      "  -0.22435849 -0.52957038 -0.15757224  0.77302113]\n",
      " [-0.15583541 -0.13041404  0.0984558   0.3150966  -0.09916278 -0.04426337\n",
      "  -0.20832614 -0.18404388 -0.04309498  0.45794224]\n",
      " [-0.05970783 -0.11342903  0.09122544  0.11908074 -0.00311646  0.02370807\n",
      "  -0.07526552 -0.06924544 -0.10963836  0.16553689]]\n"
     ]
    }
   ],
   "source": [
    "print(f\"Macierz odwrotna: {np.linalg.inv(arr)}\")"
   ]
  },
  {
   "cell_type": "markdown",
   "id": "09dce243",
   "metadata": {},
   "source": [
    "# Zadanie 3"
   ]
  },
  {
   "cell_type": "code",
   "execution_count": 42,
   "id": "fbea01bc",
   "metadata": {},
   "outputs": [],
   "source": [
    "arr_A = np.genfromtxt('DATA/cw4/Zadanie_3_macierz_A.csv', delimiter=',')\n",
    "arr_B = np.genfromtxt('DATA/cw4/Zadanie_3_macierz_B.csv', delimiter=',')"
   ]
  },
  {
   "cell_type": "code",
   "execution_count": 43,
   "id": "2d459514",
   "metadata": {},
   "outputs": [
    {
     "data": {
      "text/plain": [
       "array([[2., 2., 3.],\n",
       "       [1., 0., 4.],\n",
       "       [6., 9., 7.]])"
      ]
     },
     "execution_count": 43,
     "metadata": {},
     "output_type": "execute_result"
    }
   ],
   "source": [
    "arr_A"
   ]
  },
  {
   "cell_type": "code",
   "execution_count": 44,
   "id": "a4f44710",
   "metadata": {},
   "outputs": [
    {
     "data": {
      "text/plain": [
       "array([[ 1.,  5.,  2.],\n",
       "       [ 6.,  6.,  4.],\n",
       "       [ 1., 10.,  7.],\n",
       "       [ 5.,  8.,  2.],\n",
       "       [ 3.,  0.,  6.]])"
      ]
     },
     "execution_count": 44,
     "metadata": {},
     "output_type": "execute_result"
    }
   ],
   "source": [
    "arr_B"
   ]
  },
  {
   "cell_type": "code",
   "execution_count": 45,
   "id": "9ce16f2a",
   "metadata": {},
   "outputs": [
    {
     "ename": "ValueError",
     "evalue": "operands could not be broadcast together with shapes (3,3) (5,3) ",
     "output_type": "error",
     "traceback": [
      "\u001b[1;31m---------------------------------------------------------------------------\u001b[0m",
      "\u001b[1;31mValueError\u001b[0m                                Traceback (most recent call last)",
      "Input \u001b[1;32mIn [45]\u001b[0m, in \u001b[0;36m<cell line: 1>\u001b[1;34m()\u001b[0m\n\u001b[1;32m----> 1\u001b[0m output_arr \u001b[38;5;241m=\u001b[39m \u001b[43marr_A\u001b[49m\u001b[43m \u001b[49m\u001b[38;5;241;43m*\u001b[39;49m\u001b[43m \u001b[49m\u001b[43marr_B\u001b[49m\n",
      "\u001b[1;31mValueError\u001b[0m: operands could not be broadcast together with shapes (3,3) (5,3) "
     ]
    }
   ],
   "source": [
    "output_arr = arr_A * arr_B"
   ]
  },
  {
   "cell_type": "code",
   "execution_count": 47,
   "id": "6aa85478",
   "metadata": {},
   "outputs": [
    {
     "data": {
      "text/plain": [
       "3"
      ]
     },
     "execution_count": 47,
     "metadata": {},
     "output_type": "execute_result"
    }
   ],
   "source": [
    "for i in range(arr_A.shape[0]):\n",
    "    for j in range(arr_B.shape[1]):\n",
    "        output_arr[i,j] = "
   ]
  }
 ],
 "metadata": {
  "kernelspec": {
   "display_name": "Python 3 (ipykernel)",
   "language": "python",
   "name": "python3"
  },
  "language_info": {
   "codemirror_mode": {
    "name": "ipython",
    "version": 3
   },
   "file_extension": ".py",
   "mimetype": "text/x-python",
   "name": "python",
   "nbconvert_exporter": "python",
   "pygments_lexer": "ipython3",
   "version": "3.9.6"
  }
 },
 "nbformat": 4,
 "nbformat_minor": 5
}
