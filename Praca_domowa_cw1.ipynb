{
 "cells": [
  {
   "cell_type": "code",
   "execution_count": 5,
   "id": "2de515a7",
   "metadata": {},
   "outputs": [],
   "source": [
    "# Zadanie 1\n",
    "class Animal:\n",
    "    def __init__(self, is_alive, gender='Female', genus=\"\"):\n",
    "        self.is_alive = is_alive\n",
    "        self.gender = gender\n",
    "        self.genus = genus\n",
    "        \n",
    "    def breed(self, partner):\n",
    "        if self.gender == 'Female' and partner.gender == 'Male' and (self.genus == partner.genus):\n",
    "            return self\n",
    "\n",
    "    \n",
    "class Dog(Animal):\n",
    "    def woof(self) -> str:\n",
    "        return \"woof woof\"\n",
    "    \n",
    "    \n",
    "class Cat(Animal):\n",
    "    def purr(self) -> str:\n",
    "        return \"purr\""
   ]
  },
  {
   "cell_type": "code",
   "execution_count": 6,
   "id": "24e97797",
   "metadata": {},
   "outputs": [
    {
     "data": {
      "text/plain": [
       "<__main__.Dog at 0x7f76c858f8b0>"
      ]
     },
     "execution_count": 6,
     "metadata": {},
     "output_type": "execute_result"
    }
   ],
   "source": [
    "dog = Dog(True, 'Male', 'Calis')\n",
    "dog2 = Dog(True, 'Female', 'Calis')\n",
    "dog.woof()\n",
    "dog2.breed(dog)"
   ]
  },
  {
   "cell_type": "code",
   "execution_count": 3,
   "id": "29521c74",
   "metadata": {},
   "outputs": [
    {
     "data": {
      "text/plain": [
       "<__main__.Cat at 0x22d3399f7c0>"
      ]
     },
     "execution_count": 3,
     "metadata": {},
     "output_type": "execute_result"
    }
   ],
   "source": [
    "cat = Cat(True, 'Female', 'Felis')\n",
    "cat2 = Cat(True, 'Male', 'Felis')\n",
    "cat.purr()\n",
    "cat.breed(cat2)"
   ]
  },
  {
   "cell_type": "code",
   "execution_count": 4,
   "id": "5a888e8a",
   "metadata": {},
   "outputs": [],
   "source": [
    "# Zadanie 2\n",
    "import datetime\n",
    "\n",
    "\n",
    "class Worker:\n",
    "    def __init__(self, number: int, name: str, age:int, salary:int):\n",
    "        self.number = number\n",
    "        self.name = name\n",
    "        self.age = age\n",
    "        self.salary = salary"
   ]
  },
  {
   "cell_type": "code",
   "execution_count": 5,
   "id": "33a69a42",
   "metadata": {},
   "outputs": [],
   "source": [
    "workers_list = [Worker(1, 'Adam', 1983, 1500),\n",
    "Worker(2, 'Anna', 1981, 1700),\n",
    "Worker(3, 'Błażej', 1990, 1800),\n",
    "Worker(4, 'Beata', 1992, 1600),\n",
    "Worker(5, 'Czesław', 1980, 2000),\n",
    "Worker(6, 'Cecylia', 1983, 2100),\n",
    "Worker(7, 'Daniel', 1976, 1900)]"
   ]
  },
  {
   "cell_type": "code",
   "execution_count": 6,
   "id": "3cc2db2e",
   "metadata": {},
   "outputs": [],
   "source": [
    "def salary_avg(worker_list) -> float:\n",
    "    worker_salary_list = []\n",
    "    for i in worker_list:\n",
    "        worker_salary_list.append(i.salary)\n",
    "    return sum(worker_salary_list) / len(worker_salary_list) if len(worker_salary_list) > 0 else 0 "
   ]
  },
  {
   "cell_type": "code",
   "execution_count": 7,
   "id": "0fc0115b",
   "metadata": {},
   "outputs": [
    {
     "data": {
      "text/plain": [
       "1800.0"
      ]
     },
     "execution_count": 7,
     "metadata": {},
     "output_type": "execute_result"
    }
   ],
   "source": [
    "salary_avg(workers_list)"
   ]
  },
  {
   "cell_type": "code",
   "execution_count": 8,
   "id": "ea622d6f",
   "metadata": {},
   "outputs": [],
   "source": [
    "def avg_sal_under_30(worker_list):\n",
    "    currentYear = int(datetime.datetime.now().date().strftime(\"%Y\"))\n",
    "    workers_under_30 = []\n",
    "    for i in worker_list:\n",
    "        if currentYear - i.age < 30:\n",
    "            workers_under_30.append(i)\n",
    "            \n",
    "    return salary_avg(workers_under_30)\n",
    "\n",
    "\n",
    "def avg_sal_30(worker_list):\n",
    "    currentYear = int(datetime.datetime.now().date().strftime(\"%Y\"))\n",
    "    workers_30 = []\n",
    "    for i in worker_list:\n",
    "        if currentYear - i.age >= 30:\n",
    "            workers_30.append(i)\n",
    "            \n",
    "    return salary_avg(workers_30)"
   ]
  },
  {
   "cell_type": "code",
   "execution_count": 9,
   "id": "309da120",
   "metadata": {},
   "outputs": [
    {
     "name": "stdout",
     "output_type": "stream",
     "text": [
      "Do: 30: 0\n",
      "Powyżej 30: 1800.0\n"
     ]
    }
   ],
   "source": [
    "print(\"Do: 30: {0}\".format(avg_sal_under_30(workers_list)))\n",
    "print(\"Powyżej 30: {0}\".format(avg_sal_30(workers_list)))"
   ]
  }
 ],
 "metadata": {
  "kernelspec": {
   "display_name": "Python 3 (ipykernel)",
   "language": "python",
   "name": "python3"
  },
  "language_info": {
   "codemirror_mode": {
    "name": "ipython",
    "version": 3
   },
   "file_extension": ".py",
   "mimetype": "text/x-python",
   "name": "python",
   "nbconvert_exporter": "python",
   "pygments_lexer": "ipython3",
   "version": "3.8.10"
  }
 },
 "nbformat": 4,
 "nbformat_minor": 5
}
