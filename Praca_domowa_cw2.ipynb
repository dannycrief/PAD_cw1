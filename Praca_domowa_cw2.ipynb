{
 "cells": [
  {
   "cell_type": "code",
   "execution_count": 7,
   "id": "01944c18",
   "metadata": {},
   "outputs": [
    {
     "name": "stdout",
     "output_type": "stream",
     "text": [
      "1st part of 1st task: 20\n",
      "2nd part of 1st task: 6\n"
     ]
    }
   ],
   "source": [
    "# Zadanie 1\n",
    "\n",
    "#Napisz program w Pythonie, który utworzy funkcję lambda,\n",
    "#która dodaje 15 do podanej liczby przekazanej jako argument\n",
    "first = (lambda x: x + 15)(5)\n",
    "print(\"1st part of 1st task: {}\".format(first))\n",
    "\n",
    "# stwórz również funkcję lambda, która mnoży argument x przez argument y i wypisz wynik.\n",
    "second = (lambda x, y: x * y)(2, 3)\n",
    "print(\"2nd part of 1st task: {}\".format(second))"
   ]
  },
  {
   "cell_type": "code",
   "execution_count": 22,
   "id": "27740ffa",
   "metadata": {},
   "outputs": [
    {
     "name": "stdout",
     "output_type": "stream",
     "text": [
      "[{'color': 'Gold', 'make': 'Mi Max', 'model': 2},\n",
      " {'color': 'Blue', 'make': 'Samsung', 'model': 7},\n",
      " {'color': 'Black', 'make': 'Nokia', 'model': 216}]\n"
     ]
    }
   ],
   "source": [
    "import pprint\n",
    "\n",
    "#Zadanie 2\n",
    "\"\"\"\n",
    "Write a program in Python to sort a list of dictionaries using Lambda.\n",
    "\"\"\"\n",
    "input_list = [\n",
    "    {'make': 'Nokia', 'model': 216, 'color': 'Black'},\n",
    "    {'make': 'Mi Max', 'model': 2, 'color': 'Gold'},\n",
    "    {'make': 'Samsung', 'model': 7, 'color': 'Blue'}\n",
    "]\n",
    "# sorted(input_list, key=lambda company: company[1].keys())\n",
    "input_list = sorted(input_list, key=lambda k: k['model'], reverse=False)\n",
    "pprint.pprint((input_list))"
   ]
  },
  {
   "cell_type": "code",
   "execution_count": 38,
   "id": "8c6abc52",
   "metadata": {},
   "outputs": [
    {
     "name": "stdout",
     "output_type": "stream",
     "text": [
      "Square numbers are: [1, 4, 9, 16, 25, 36, 49, 64, 81, 100]\n",
      "Cube numbers are: [1, 8, 27, 64, 125, 216, 343, 512, 729, 1000]\n"
     ]
    }
   ],
   "source": [
    "# Zadanie 3\n",
    "\"\"\"\n",
    "Write a program in Python that will square and cube any number from a given list of integers using Lambda.\n",
    "\"\"\"\n",
    "input_list = [1, 2, 3, 4, 5, 6, 7, 8, 9, 10]\n",
    "square_nums = list(map(lambda x: x ** 2, input_list))\n",
    "cube_nums = list(map(lambda x: x ** 3, input_list))\n",
    "print(\"Square numbers are: {0}\".format(square_nums))\n",
    "print(\"Cube numbers are: {0}\".format(cube_nums))"
   ]
  },
  {
   "cell_type": "code",
   "execution_count": 9,
   "id": "e64bcdbf",
   "metadata": {},
   "outputs": [
    {
     "name": "stdout",
     "output_type": "stream",
     "text": [
      "***********************************\n",
      "***********************************\n",
      "*** Welcome to the Game Hangman ***\n",
      "***********************************\n",
      "***********************************\n",
      "\n",
      "lows\n",
      "EN\n",
      "1\n"
     ]
    }
   ],
   "source": [
    "# Zadanie 4\n",
    "class Game:\n",
    "    PLAYERS = [1, 2]\n",
    "    LANGUAGES = [\"EN\", \"PL\"]\n",
    "    LEVELS = {\n",
    "        \"low\": 8,\n",
    "        \"medium\": 5,\n",
    "        \"hard\": 3\n",
    "    }\n",
    "\n",
    "    def __init__(self, level, language, players_number):\n",
    "        self.level = level\n",
    "        self.language = language\n",
    "        self.players_number = players_number\n",
    "\n",
    "    @property\n",
    "    def level(self):\n",
    "        return self._level\n",
    "\n",
    "    @level.setter\n",
    "    def level(self, level):\n",
    "        if level in self.LEVELS.keys():\n",
    "            print(level)\n",
    "            self._level = self.LEVELS[level]\n",
    "        else:\n",
    "            raise Exception(\"Unknown level: {0}\".format(level))\n",
    "\n",
    "    @property\n",
    "    def players_number(self):\n",
    "        return self._players_number\n",
    "\n",
    "    @players_number.setter\n",
    "    def players_number(self, players_number):\n",
    "        if players_number in self.PLAYERS:\n",
    "            self._players_number = players_number\n",
    "        else:\n",
    "            raise Exception(\"Invalid players_number parameter: {0}\".format(players_number))\n",
    "\n",
    "    @property\n",
    "    def language(self):\n",
    "        return self._language\n",
    "\n",
    "    @language.setter\n",
    "    def language(self, language):\n",
    "        if language in self.LANGUAGES:\n",
    "            self._language = language\n",
    "        else:\n",
    "            raise Exception(\"Invalid language parameter: {0}. Acceptable is {1}\".format(language, self.LANGUAGES))\n",
    "\n",
    "    def _play(self):\n",
    "        print(\n",
    "            \"***********************************\\n\"\n",
    "            \"***********************************\\n\"\n",
    "            \"*** Welcome to the Game Hangman ***\\n\"\n",
    "            \"***********************************\\n\"\n",
    "            \"***********************************\\n\"\n",
    "        )\n",
    "        print(self.level)\n",
    "        print(self.language)\n",
    "        print(self.players_number)\n",
    "\n",
    "\n",
    "class Hangman(Game):\n",
    "    def __init__(self, level, language, players_number):\n",
    "        super().__init__(level, language, players_number)\n",
    "\n",
    "    def start(self):\n",
    "        super()._play()\n",
    "\n",
    "    level = None\n",
    "\n",
    "\n",
    "Hangman(level=\"lows\", language=\"EN\", players_number=1).start()"
   ]
  },
  {
   "cell_type": "code",
   "execution_count": null,
   "outputs": [],
   "source": [],
   "metadata": {
    "collapsed": false,
    "pycharm": {
     "name": "#%%\n"
    }
   }
  }
 ],
 "metadata": {
  "kernelspec": {
   "display_name": "Python 3 (ipykernel)",
   "language": "python",
   "name": "python3"
  },
  "language_info": {
   "codemirror_mode": {
    "name": "ipython",
    "version": 3
   },
   "file_extension": ".py",
   "mimetype": "text/x-python",
   "name": "python",
   "nbconvert_exporter": "python",
   "pygments_lexer": "ipython3",
   "version": "3.8.10"
  }
 },
 "nbformat": 4,
 "nbformat_minor": 5
}