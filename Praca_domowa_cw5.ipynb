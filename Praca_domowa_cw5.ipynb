{
 "cells": [
  {
   "cell_type": "code",
   "execution_count": 1,
   "outputs": [],
   "source": [
    "import pandas as pd\n",
    "import numpy as np"
   ],
   "metadata": {
    "collapsed": false,
    "pycharm": {
     "name": "#%%\n"
    }
   }
  },
  {
   "cell_type": "code",
   "execution_count": 2,
   "outputs": [],
   "source": [
    "customers_df = pd.read_csv('DATA/cw5/customers.csv', sep=',')\n",
    "orders_df = pd.read_csv('DATA/cw5/orders.csv', sep=',')"
   ],
   "metadata": {
    "collapsed": false,
    "pycharm": {
     "name": "#%%\n"
    }
   }
  },
  {
   "cell_type": "markdown",
   "source": [
    "# Zadanie 1"
   ],
   "metadata": {
    "collapsed": false,
    "pycharm": {
     "name": "#%% md\n"
    }
   }
  },
  {
   "cell_type": "code",
   "execution_count": 3,
   "outputs": [
    {
     "data": {
      "text/plain": "       order_date  pages_visited         order_id customer_id  \\\n0      2016/09/04              9  HTS-038040-0002      038040   \n1      2014/11/14             11  HTS-801797-0001      801797   \n2      2017/02/26             10  HTS-vft1eu-0003      vft1eu   \n3      2013/12/01             10  HTS-914324-0001      914324   \n4      2015/10/22             12  HTS-88ua9r-0001      88ua9r   \n...           ...            ...              ...         ...   \n26547  2016/11/19             13  HTS-n641x4-0001      n641x4   \n26548  2016/08/02              4  HTS-q0nm12-0001      q0nm12   \n26549  2017/03/09              6  HTS-sby0iz-0001      sby0iz   \n26550  2016/10/04             11  HTS-uz70x4-0001      uz70x4   \n26551  2016/12/16              9  HTS-xnbc22-0001      xnbc22   \n\n       tshirt_category  tshirt_price  tshirt_quantity  \n0      White T-Shirt M          20.0                1  \n1      White T-Shirt M          20.0                1  \n2      White T-Shirt F          18.0                3  \n3          Wh Tshirt F          18.0                1  \n4      White T-Shirt M          20.0                1  \n...                ...           ...              ...  \n26547  White T-Shirt M          20.0                1  \n26548  White T-Shirt M          20.0                1  \n26549  White T-Shirt M          20.0                1  \n26550           Hoodie          23.0                5  \n26551  Black T-Shirt M          19.0                3  \n\n[26552 rows x 7 columns]",
      "text/html": "<div>\n<style scoped>\n    .dataframe tbody tr th:only-of-type {\n        vertical-align: middle;\n    }\n\n    .dataframe tbody tr th {\n        vertical-align: top;\n    }\n\n    .dataframe thead th {\n        text-align: right;\n    }\n</style>\n<table border=\"1\" class=\"dataframe\">\n  <thead>\n    <tr style=\"text-align: right;\">\n      <th></th>\n      <th>order_date</th>\n      <th>pages_visited</th>\n      <th>order_id</th>\n      <th>customer_id</th>\n      <th>tshirt_category</th>\n      <th>tshirt_price</th>\n      <th>tshirt_quantity</th>\n    </tr>\n  </thead>\n  <tbody>\n    <tr>\n      <th>0</th>\n      <td>2016/09/04</td>\n      <td>9</td>\n      <td>HTS-038040-0002</td>\n      <td>038040</td>\n      <td>White T-Shirt M</td>\n      <td>20.0</td>\n      <td>1</td>\n    </tr>\n    <tr>\n      <th>1</th>\n      <td>2014/11/14</td>\n      <td>11</td>\n      <td>HTS-801797-0001</td>\n      <td>801797</td>\n      <td>White T-Shirt M</td>\n      <td>20.0</td>\n      <td>1</td>\n    </tr>\n    <tr>\n      <th>2</th>\n      <td>2017/02/26</td>\n      <td>10</td>\n      <td>HTS-vft1eu-0003</td>\n      <td>vft1eu</td>\n      <td>White T-Shirt F</td>\n      <td>18.0</td>\n      <td>3</td>\n    </tr>\n    <tr>\n      <th>3</th>\n      <td>2013/12/01</td>\n      <td>10</td>\n      <td>HTS-914324-0001</td>\n      <td>914324</td>\n      <td>Wh Tshirt F</td>\n      <td>18.0</td>\n      <td>1</td>\n    </tr>\n    <tr>\n      <th>4</th>\n      <td>2015/10/22</td>\n      <td>12</td>\n      <td>HTS-88ua9r-0001</td>\n      <td>88ua9r</td>\n      <td>White T-Shirt M</td>\n      <td>20.0</td>\n      <td>1</td>\n    </tr>\n    <tr>\n      <th>...</th>\n      <td>...</td>\n      <td>...</td>\n      <td>...</td>\n      <td>...</td>\n      <td>...</td>\n      <td>...</td>\n      <td>...</td>\n    </tr>\n    <tr>\n      <th>26547</th>\n      <td>2016/11/19</td>\n      <td>13</td>\n      <td>HTS-n641x4-0001</td>\n      <td>n641x4</td>\n      <td>White T-Shirt M</td>\n      <td>20.0</td>\n      <td>1</td>\n    </tr>\n    <tr>\n      <th>26548</th>\n      <td>2016/08/02</td>\n      <td>4</td>\n      <td>HTS-q0nm12-0001</td>\n      <td>q0nm12</td>\n      <td>White T-Shirt M</td>\n      <td>20.0</td>\n      <td>1</td>\n    </tr>\n    <tr>\n      <th>26549</th>\n      <td>2017/03/09</td>\n      <td>6</td>\n      <td>HTS-sby0iz-0001</td>\n      <td>sby0iz</td>\n      <td>White T-Shirt M</td>\n      <td>20.0</td>\n      <td>1</td>\n    </tr>\n    <tr>\n      <th>26550</th>\n      <td>2016/10/04</td>\n      <td>11</td>\n      <td>HTS-uz70x4-0001</td>\n      <td>uz70x4</td>\n      <td>Hoodie</td>\n      <td>23.0</td>\n      <td>5</td>\n    </tr>\n    <tr>\n      <th>26551</th>\n      <td>2016/12/16</td>\n      <td>9</td>\n      <td>HTS-xnbc22-0001</td>\n      <td>xnbc22</td>\n      <td>Black T-Shirt M</td>\n      <td>19.0</td>\n      <td>3</td>\n    </tr>\n  </tbody>\n</table>\n<p>26552 rows × 7 columns</p>\n</div>"
     },
     "execution_count": 3,
     "metadata": {},
     "output_type": "execute_result"
    }
   ],
   "source": [
    "orders_df"
   ],
   "metadata": {
    "collapsed": false,
    "pycharm": {
     "name": "#%%\n"
    }
   }
  },
  {
   "cell_type": "code",
   "execution_count": 4,
   "outputs": [
    {
     "data": {
      "text/plain": "       pages_visited  tshirt_price  tshirt_quantity\ncount   26552.000000  26552.000000     26552.000000\nmean       10.838016     20.223768         2.693394\nstd         3.589299      2.220651         3.456182\nmin         2.000000     17.500000         1.000000\n25%         8.000000     18.000000         1.000000\n50%        11.000000     20.000000         2.000000\n75%        13.000000     23.000000         3.000000\nmax        28.000000     24.000000        29.000000",
      "text/html": "<div>\n<style scoped>\n    .dataframe tbody tr th:only-of-type {\n        vertical-align: middle;\n    }\n\n    .dataframe tbody tr th {\n        vertical-align: top;\n    }\n\n    .dataframe thead th {\n        text-align: right;\n    }\n</style>\n<table border=\"1\" class=\"dataframe\">\n  <thead>\n    <tr style=\"text-align: right;\">\n      <th></th>\n      <th>pages_visited</th>\n      <th>tshirt_price</th>\n      <th>tshirt_quantity</th>\n    </tr>\n  </thead>\n  <tbody>\n    <tr>\n      <th>count</th>\n      <td>26552.000000</td>\n      <td>26552.000000</td>\n      <td>26552.000000</td>\n    </tr>\n    <tr>\n      <th>mean</th>\n      <td>10.838016</td>\n      <td>20.223768</td>\n      <td>2.693394</td>\n    </tr>\n    <tr>\n      <th>std</th>\n      <td>3.589299</td>\n      <td>2.220651</td>\n      <td>3.456182</td>\n    </tr>\n    <tr>\n      <th>min</th>\n      <td>2.000000</td>\n      <td>17.500000</td>\n      <td>1.000000</td>\n    </tr>\n    <tr>\n      <th>25%</th>\n      <td>8.000000</td>\n      <td>18.000000</td>\n      <td>1.000000</td>\n    </tr>\n    <tr>\n      <th>50%</th>\n      <td>11.000000</td>\n      <td>20.000000</td>\n      <td>2.000000</td>\n    </tr>\n    <tr>\n      <th>75%</th>\n      <td>13.000000</td>\n      <td>23.000000</td>\n      <td>3.000000</td>\n    </tr>\n    <tr>\n      <th>max</th>\n      <td>28.000000</td>\n      <td>24.000000</td>\n      <td>29.000000</td>\n    </tr>\n  </tbody>\n</table>\n</div>"
     },
     "execution_count": 4,
     "metadata": {},
     "output_type": "execute_result"
    }
   ],
   "source": [
    "orders_df.describe()"
   ],
   "metadata": {
    "collapsed": false,
    "pycharm": {
     "name": "#%%\n"
    }
   }
  },
  {
   "cell_type": "code",
   "execution_count": 5,
   "outputs": [
    {
     "name": "stdout",
     "output_type": "stream",
     "text": [
      "<class 'pandas.core.frame.DataFrame'>\n",
      "RangeIndex: 26552 entries, 0 to 26551\n",
      "Data columns (total 7 columns):\n",
      " #   Column           Non-Null Count  Dtype  \n",
      "---  ------           --------------  -----  \n",
      " 0   order_date       26552 non-null  object \n",
      " 1   pages_visited    26552 non-null  int64  \n",
      " 2   order_id         26552 non-null  object \n",
      " 3   customer_id      26552 non-null  object \n",
      " 4   tshirt_category  26552 non-null  object \n",
      " 5   tshirt_price     26552 non-null  float64\n",
      " 6   tshirt_quantity  26552 non-null  int64  \n",
      "dtypes: float64(1), int64(2), object(4)\n",
      "memory usage: 1.4+ MB\n"
     ]
    }
   ],
   "source": [
    "orders_df.info()"
   ],
   "metadata": {
    "collapsed": false,
    "pycharm": {
     "name": "#%%\n"
    }
   }
  },
  {
   "cell_type": "code",
   "execution_count": 6,
   "outputs": [
    {
     "data": {
      "text/plain": "   order_date  pages_visited         order_id customer_id  tshirt_category  \\\n0  2016/09/04              9  HTS-038040-0002      038040  White T-Shirt M   \n1  2014/11/14             11  HTS-801797-0001      801797  White T-Shirt M   \n2  2017/02/26             10  HTS-vft1eu-0003      vft1eu  White T-Shirt F   \n3  2013/12/01             10  HTS-914324-0001      914324      Wh Tshirt F   \n4  2015/10/22             12  HTS-88ua9r-0001      88ua9r  White T-Shirt M   \n\n   tshirt_price  tshirt_quantity  \n0          20.0                1  \n1          20.0                1  \n2          18.0                3  \n3          18.0                1  \n4          20.0                1  ",
      "text/html": "<div>\n<style scoped>\n    .dataframe tbody tr th:only-of-type {\n        vertical-align: middle;\n    }\n\n    .dataframe tbody tr th {\n        vertical-align: top;\n    }\n\n    .dataframe thead th {\n        text-align: right;\n    }\n</style>\n<table border=\"1\" class=\"dataframe\">\n  <thead>\n    <tr style=\"text-align: right;\">\n      <th></th>\n      <th>order_date</th>\n      <th>pages_visited</th>\n      <th>order_id</th>\n      <th>customer_id</th>\n      <th>tshirt_category</th>\n      <th>tshirt_price</th>\n      <th>tshirt_quantity</th>\n    </tr>\n  </thead>\n  <tbody>\n    <tr>\n      <th>0</th>\n      <td>2016/09/04</td>\n      <td>9</td>\n      <td>HTS-038040-0002</td>\n      <td>038040</td>\n      <td>White T-Shirt M</td>\n      <td>20.0</td>\n      <td>1</td>\n    </tr>\n    <tr>\n      <th>1</th>\n      <td>2014/11/14</td>\n      <td>11</td>\n      <td>HTS-801797-0001</td>\n      <td>801797</td>\n      <td>White T-Shirt M</td>\n      <td>20.0</td>\n      <td>1</td>\n    </tr>\n    <tr>\n      <th>2</th>\n      <td>2017/02/26</td>\n      <td>10</td>\n      <td>HTS-vft1eu-0003</td>\n      <td>vft1eu</td>\n      <td>White T-Shirt F</td>\n      <td>18.0</td>\n      <td>3</td>\n    </tr>\n    <tr>\n      <th>3</th>\n      <td>2013/12/01</td>\n      <td>10</td>\n      <td>HTS-914324-0001</td>\n      <td>914324</td>\n      <td>Wh Tshirt F</td>\n      <td>18.0</td>\n      <td>1</td>\n    </tr>\n    <tr>\n      <th>4</th>\n      <td>2015/10/22</td>\n      <td>12</td>\n      <td>HTS-88ua9r-0001</td>\n      <td>88ua9r</td>\n      <td>White T-Shirt M</td>\n      <td>20.0</td>\n      <td>1</td>\n    </tr>\n  </tbody>\n</table>\n</div>"
     },
     "execution_count": 6,
     "metadata": {},
     "output_type": "execute_result"
    }
   ],
   "source": [
    "orders_df.head()"
   ],
   "metadata": {
    "collapsed": false,
    "pycharm": {
     "name": "#%%\n"
    }
   }
  },
  {
   "cell_type": "code",
   "execution_count": 7,
   "outputs": [],
   "source": [
    "# Zadanie 1a\n",
    "orders_df['order_date'] = pd.to_datetime(orders_df['order_date'], format='%Y/%m/%d')"
   ],
   "metadata": {
    "collapsed": false,
    "pycharm": {
     "name": "#%%\n"
    }
   }
  },
  {
   "cell_type": "code",
   "execution_count": 8,
   "outputs": [
    {
     "data": {
      "text/plain": "      order_date  pages_visited         order_id customer_id  tshirt_category  \\\n0     2016-09-04              9  HTS-038040-0002      038040  White T-Shirt M   \n1     2014-11-14             11  HTS-801797-0001      801797  White T-Shirt M   \n2     2017-02-26             10  HTS-vft1eu-0003      vft1eu  White T-Shirt F   \n3     2013-12-01             10  HTS-914324-0001      914324      Wh Tshirt F   \n4     2015-10-22             12  HTS-88ua9r-0001      88ua9r  White T-Shirt M   \n...          ...            ...              ...         ...              ...   \n26547 2016-11-19             13  HTS-n641x4-0001      n641x4  White T-Shirt M   \n26548 2016-08-02              4  HTS-q0nm12-0001      q0nm12  White T-Shirt M   \n26549 2017-03-09              6  HTS-sby0iz-0001      sby0iz  White T-Shirt M   \n26550 2016-10-04             11  HTS-uz70x4-0001      uz70x4           Hoodie   \n26551 2016-12-16              9  HTS-xnbc22-0001      xnbc22  Black T-Shirt M   \n\n       tshirt_price  tshirt_quantity  \n0              20.0                1  \n1              20.0                1  \n2              18.0                3  \n3              18.0                1  \n4              20.0                1  \n...             ...              ...  \n26547          20.0                1  \n26548          20.0                1  \n26549          20.0                1  \n26550          23.0                5  \n26551          19.0                3  \n\n[26552 rows x 7 columns]",
      "text/html": "<div>\n<style scoped>\n    .dataframe tbody tr th:only-of-type {\n        vertical-align: middle;\n    }\n\n    .dataframe tbody tr th {\n        vertical-align: top;\n    }\n\n    .dataframe thead th {\n        text-align: right;\n    }\n</style>\n<table border=\"1\" class=\"dataframe\">\n  <thead>\n    <tr style=\"text-align: right;\">\n      <th></th>\n      <th>order_date</th>\n      <th>pages_visited</th>\n      <th>order_id</th>\n      <th>customer_id</th>\n      <th>tshirt_category</th>\n      <th>tshirt_price</th>\n      <th>tshirt_quantity</th>\n    </tr>\n  </thead>\n  <tbody>\n    <tr>\n      <th>0</th>\n      <td>2016-09-04</td>\n      <td>9</td>\n      <td>HTS-038040-0002</td>\n      <td>038040</td>\n      <td>White T-Shirt M</td>\n      <td>20.0</td>\n      <td>1</td>\n    </tr>\n    <tr>\n      <th>1</th>\n      <td>2014-11-14</td>\n      <td>11</td>\n      <td>HTS-801797-0001</td>\n      <td>801797</td>\n      <td>White T-Shirt M</td>\n      <td>20.0</td>\n      <td>1</td>\n    </tr>\n    <tr>\n      <th>2</th>\n      <td>2017-02-26</td>\n      <td>10</td>\n      <td>HTS-vft1eu-0003</td>\n      <td>vft1eu</td>\n      <td>White T-Shirt F</td>\n      <td>18.0</td>\n      <td>3</td>\n    </tr>\n    <tr>\n      <th>3</th>\n      <td>2013-12-01</td>\n      <td>10</td>\n      <td>HTS-914324-0001</td>\n      <td>914324</td>\n      <td>Wh Tshirt F</td>\n      <td>18.0</td>\n      <td>1</td>\n    </tr>\n    <tr>\n      <th>4</th>\n      <td>2015-10-22</td>\n      <td>12</td>\n      <td>HTS-88ua9r-0001</td>\n      <td>88ua9r</td>\n      <td>White T-Shirt M</td>\n      <td>20.0</td>\n      <td>1</td>\n    </tr>\n    <tr>\n      <th>...</th>\n      <td>...</td>\n      <td>...</td>\n      <td>...</td>\n      <td>...</td>\n      <td>...</td>\n      <td>...</td>\n      <td>...</td>\n    </tr>\n    <tr>\n      <th>26547</th>\n      <td>2016-11-19</td>\n      <td>13</td>\n      <td>HTS-n641x4-0001</td>\n      <td>n641x4</td>\n      <td>White T-Shirt M</td>\n      <td>20.0</td>\n      <td>1</td>\n    </tr>\n    <tr>\n      <th>26548</th>\n      <td>2016-08-02</td>\n      <td>4</td>\n      <td>HTS-q0nm12-0001</td>\n      <td>q0nm12</td>\n      <td>White T-Shirt M</td>\n      <td>20.0</td>\n      <td>1</td>\n    </tr>\n    <tr>\n      <th>26549</th>\n      <td>2017-03-09</td>\n      <td>6</td>\n      <td>HTS-sby0iz-0001</td>\n      <td>sby0iz</td>\n      <td>White T-Shirt M</td>\n      <td>20.0</td>\n      <td>1</td>\n    </tr>\n    <tr>\n      <th>26550</th>\n      <td>2016-10-04</td>\n      <td>11</td>\n      <td>HTS-uz70x4-0001</td>\n      <td>uz70x4</td>\n      <td>Hoodie</td>\n      <td>23.0</td>\n      <td>5</td>\n    </tr>\n    <tr>\n      <th>26551</th>\n      <td>2016-12-16</td>\n      <td>9</td>\n      <td>HTS-xnbc22-0001</td>\n      <td>xnbc22</td>\n      <td>Black T-Shirt M</td>\n      <td>19.0</td>\n      <td>3</td>\n    </tr>\n  </tbody>\n</table>\n<p>26552 rows × 7 columns</p>\n</div>"
     },
     "execution_count": 8,
     "metadata": {},
     "output_type": "execute_result"
    }
   ],
   "source": [
    "orders_df"
   ],
   "metadata": {
    "collapsed": false,
    "pycharm": {
     "name": "#%%\n"
    }
   }
  },
  {
   "cell_type": "code",
   "execution_count": 9,
   "outputs": [
    {
     "data": {
      "text/plain": "tshirt_category\nBl Tshirt F        14\nBl Tshirt M        17\nBlack T-Shirt F    27\nBlack T-Shirt M    27\nHoodie             28\nTennis Shirt       27\nWh Tshirt F        15\nWh Tshirt M        21\nWhite T-Shirt F    25\nWhite T-Shirt M    27\nName: tshirt_quantity, dtype: int64"
     },
     "execution_count": 9,
     "metadata": {},
     "output_type": "execute_result"
    }
   ],
   "source": [
    "# Zadanie 1b - liczba unikatowych wartości w kolumnie kategorii\n",
    "orders_df.groupby('tshirt_category')['tshirt_quantity'].nunique()"
   ],
   "metadata": {
    "collapsed": false,
    "pycharm": {
     "name": "#%%\n"
    }
   }
  },
  {
   "cell_type": "code",
   "execution_count": 10,
   "outputs": [
    {
     "data": {
      "text/plain": "tshirt_category\nBl Tshirt F         257\nBl Tshirt M         377\nBlack T-Shirt F    3248\nBlack T-Shirt M    4454\nHoodie             6229\nTennis Shirt       2153\nWh Tshirt F         312\nWh Tshirt M         462\nWhite T-Shirt F    3513\nWhite T-Shirt M    5547\nName: tshirt_quantity, dtype: int64"
     },
     "execution_count": 10,
     "metadata": {},
     "output_type": "execute_result"
    }
   ],
   "source": [
    "# Łączna liczba kategorii\n",
    "orders_df.groupby('tshirt_category')['tshirt_quantity'].count()"
   ],
   "metadata": {
    "collapsed": false,
    "pycharm": {
     "name": "#%%\n"
    }
   }
  },
  {
   "cell_type": "code",
   "execution_count": 11,
   "outputs": [],
   "source": [
    "def normalize_category(category: str):\n",
    "    if category.startswith(\"Wh \"):\n",
    "        category = category.replace(\"Wh \", \"White \")\n",
    "    if category.startswith(\"Bl \"):\n",
    "        category = category.replace(\"Bl \", \"Black \")\n",
    "    if \" Tshirt \" in category:\n",
    "        category = category.replace(\" Tshirt \", \" T-Shirt \")\n",
    "    if \"Hoodie\" in category:\n",
    "        category = category.replace(category, \" Hoodie \")\n",
    "    if \"Tennis Shirt\" in category:\n",
    "        category = category.replace(category, \" Tennis_Shirt \")\n",
    "    return category\n",
    "\n",
    "\n",
    "def space_to_nan(value):\n",
    "    return np.nan if len(value) == 0 else value"
   ],
   "metadata": {
    "collapsed": false,
    "pycharm": {
     "name": "#%%\n"
    }
   }
  },
  {
   "cell_type": "code",
   "execution_count": 12,
   "outputs": [],
   "source": [
    "orders_df['tshirt_category'] = orders_df['tshirt_category'].apply(normalize_category)"
   ],
   "metadata": {
    "collapsed": false,
    "pycharm": {
     "name": "#%%\n"
    }
   }
  },
  {
   "cell_type": "code",
   "execution_count": 13,
   "outputs": [
    {
     "data": {
      "text/plain": "tshirt_category\n Hoodie            28\n Tennis_Shirt      27\nBlack T-Shirt F    27\nBlack T-Shirt M    27\nWhite T-Shirt F    25\nWhite T-Shirt M    27\nName: tshirt_quantity, dtype: int64"
     },
     "execution_count": 13,
     "metadata": {},
     "output_type": "execute_result"
    }
   ],
   "source": [
    "orders_df.groupby('tshirt_category')['tshirt_quantity'].nunique()"
   ],
   "metadata": {
    "collapsed": false,
    "pycharm": {
     "name": "#%%\n"
    }
   }
  },
  {
   "cell_type": "code",
   "execution_count": 14,
   "outputs": [],
   "source": [
    "# Zadanie 1c\n",
    "orders_df[['tshirt_colour', 'tshirt_type', 'tshirt_size']] = orders_df.tshirt_category.str.split(' ', expand=True)"
   ],
   "metadata": {
    "collapsed": false,
    "pycharm": {
     "name": "#%%\n"
    }
   }
  },
  {
   "cell_type": "code",
   "execution_count": 15,
   "outputs": [],
   "source": [
    "del orders_df['tshirt_category']"
   ],
   "metadata": {
    "collapsed": false,
    "pycharm": {
     "name": "#%%\n"
    }
   }
  },
  {
   "cell_type": "code",
   "execution_count": 16,
   "outputs": [],
   "source": [
    "orders_df['tshirt_colour'] = orders_df['tshirt_colour'].apply(space_to_nan)\n",
    "orders_df['tshirt_size'] = orders_df['tshirt_size'].apply(space_to_nan)"
   ],
   "metadata": {
    "collapsed": false,
    "pycharm": {
     "name": "#%%\n"
    }
   }
  },
  {
   "cell_type": "code",
   "execution_count": 17,
   "outputs": [
    {
     "data": {
      "text/plain": "      order_date  pages_visited         order_id customer_id  tshirt_price  \\\n0     2016-09-04              9  HTS-038040-0002      038040          20.0   \n1     2014-11-14             11  HTS-801797-0001      801797          20.0   \n2     2017-02-26             10  HTS-vft1eu-0003      vft1eu          18.0   \n3     2013-12-01             10  HTS-914324-0001      914324          18.0   \n4     2015-10-22             12  HTS-88ua9r-0001      88ua9r          20.0   \n...          ...            ...              ...         ...           ...   \n26547 2016-11-19             13  HTS-n641x4-0001      n641x4          20.0   \n26548 2016-08-02              4  HTS-q0nm12-0001      q0nm12          20.0   \n26549 2017-03-09              6  HTS-sby0iz-0001      sby0iz          20.0   \n26550 2016-10-04             11  HTS-uz70x4-0001      uz70x4          23.0   \n26551 2016-12-16              9  HTS-xnbc22-0001      xnbc22          19.0   \n\n       tshirt_quantity tshirt_colour tshirt_type tshirt_size  \n0                    1         White     T-Shirt           M  \n1                    1         White     T-Shirt           M  \n2                    3         White     T-Shirt           F  \n3                    1         White     T-Shirt           F  \n4                    1         White     T-Shirt           M  \n...                ...           ...         ...         ...  \n26547                1         White     T-Shirt           M  \n26548                1         White     T-Shirt           M  \n26549                1         White     T-Shirt           M  \n26550                5           NaN      Hoodie         NaN  \n26551                3         Black     T-Shirt           M  \n\n[26552 rows x 9 columns]",
      "text/html": "<div>\n<style scoped>\n    .dataframe tbody tr th:only-of-type {\n        vertical-align: middle;\n    }\n\n    .dataframe tbody tr th {\n        vertical-align: top;\n    }\n\n    .dataframe thead th {\n        text-align: right;\n    }\n</style>\n<table border=\"1\" class=\"dataframe\">\n  <thead>\n    <tr style=\"text-align: right;\">\n      <th></th>\n      <th>order_date</th>\n      <th>pages_visited</th>\n      <th>order_id</th>\n      <th>customer_id</th>\n      <th>tshirt_price</th>\n      <th>tshirt_quantity</th>\n      <th>tshirt_colour</th>\n      <th>tshirt_type</th>\n      <th>tshirt_size</th>\n    </tr>\n  </thead>\n  <tbody>\n    <tr>\n      <th>0</th>\n      <td>2016-09-04</td>\n      <td>9</td>\n      <td>HTS-038040-0002</td>\n      <td>038040</td>\n      <td>20.0</td>\n      <td>1</td>\n      <td>White</td>\n      <td>T-Shirt</td>\n      <td>M</td>\n    </tr>\n    <tr>\n      <th>1</th>\n      <td>2014-11-14</td>\n      <td>11</td>\n      <td>HTS-801797-0001</td>\n      <td>801797</td>\n      <td>20.0</td>\n      <td>1</td>\n      <td>White</td>\n      <td>T-Shirt</td>\n      <td>M</td>\n    </tr>\n    <tr>\n      <th>2</th>\n      <td>2017-02-26</td>\n      <td>10</td>\n      <td>HTS-vft1eu-0003</td>\n      <td>vft1eu</td>\n      <td>18.0</td>\n      <td>3</td>\n      <td>White</td>\n      <td>T-Shirt</td>\n      <td>F</td>\n    </tr>\n    <tr>\n      <th>3</th>\n      <td>2013-12-01</td>\n      <td>10</td>\n      <td>HTS-914324-0001</td>\n      <td>914324</td>\n      <td>18.0</td>\n      <td>1</td>\n      <td>White</td>\n      <td>T-Shirt</td>\n      <td>F</td>\n    </tr>\n    <tr>\n      <th>4</th>\n      <td>2015-10-22</td>\n      <td>12</td>\n      <td>HTS-88ua9r-0001</td>\n      <td>88ua9r</td>\n      <td>20.0</td>\n      <td>1</td>\n      <td>White</td>\n      <td>T-Shirt</td>\n      <td>M</td>\n    </tr>\n    <tr>\n      <th>...</th>\n      <td>...</td>\n      <td>...</td>\n      <td>...</td>\n      <td>...</td>\n      <td>...</td>\n      <td>...</td>\n      <td>...</td>\n      <td>...</td>\n      <td>...</td>\n    </tr>\n    <tr>\n      <th>26547</th>\n      <td>2016-11-19</td>\n      <td>13</td>\n      <td>HTS-n641x4-0001</td>\n      <td>n641x4</td>\n      <td>20.0</td>\n      <td>1</td>\n      <td>White</td>\n      <td>T-Shirt</td>\n      <td>M</td>\n    </tr>\n    <tr>\n      <th>26548</th>\n      <td>2016-08-02</td>\n      <td>4</td>\n      <td>HTS-q0nm12-0001</td>\n      <td>q0nm12</td>\n      <td>20.0</td>\n      <td>1</td>\n      <td>White</td>\n      <td>T-Shirt</td>\n      <td>M</td>\n    </tr>\n    <tr>\n      <th>26549</th>\n      <td>2017-03-09</td>\n      <td>6</td>\n      <td>HTS-sby0iz-0001</td>\n      <td>sby0iz</td>\n      <td>20.0</td>\n      <td>1</td>\n      <td>White</td>\n      <td>T-Shirt</td>\n      <td>M</td>\n    </tr>\n    <tr>\n      <th>26550</th>\n      <td>2016-10-04</td>\n      <td>11</td>\n      <td>HTS-uz70x4-0001</td>\n      <td>uz70x4</td>\n      <td>23.0</td>\n      <td>5</td>\n      <td>NaN</td>\n      <td>Hoodie</td>\n      <td>NaN</td>\n    </tr>\n    <tr>\n      <th>26551</th>\n      <td>2016-12-16</td>\n      <td>9</td>\n      <td>HTS-xnbc22-0001</td>\n      <td>xnbc22</td>\n      <td>19.0</td>\n      <td>3</td>\n      <td>Black</td>\n      <td>T-Shirt</td>\n      <td>M</td>\n    </tr>\n  </tbody>\n</table>\n<p>26552 rows × 9 columns</p>\n</div>"
     },
     "execution_count": 17,
     "metadata": {},
     "output_type": "execute_result"
    }
   ],
   "source": [
    "orders_df"
   ],
   "metadata": {
    "collapsed": false,
    "pycharm": {
     "name": "#%%\n"
    }
   }
  },
  {
   "cell_type": "code",
   "execution_count": 18,
   "outputs": [
    {
     "data": {
      "text/plain": "      order_date  pages_visited         order_id customer_id  tshirt_price  \\\n4     2015-10-22             12  HTS-88ua9r-0001      88ua9r          20.0   \n5     2016-01-15              9  HTS-061311-0003      061311          17.5   \n12    2015-11-24             15  HTS-je57lh-0001      je57lh          23.0   \n13    2015-10-10              8  HTS-252675-0002      252675          20.0   \n15    2015-11-29             15  HTS-heb26i-0001      heb26i          17.5   \n...          ...            ...              ...         ...           ...   \n26496 2016-06-02              2  HTS-5b4bg6-0001      5b4bg6          17.5   \n26513 2016-07-05             12  HTS-bt08zd-0001      bt08zd          18.0   \n26515 2016-07-27             17  HTS-gsc3f6-0001      gsc3f6          23.0   \n26540 2016-06-08              7  HTS-6ba0i0-0001      6ba0i0          20.0   \n26548 2016-08-02              4  HTS-q0nm12-0001      q0nm12          20.0   \n\n       tshirt_quantity tshirt_colour tshirt_type tshirt_size  \n4                    1         White     T-Shirt           M  \n5                    4         Black     T-Shirt           F  \n12                   3           NaN      Hoodie         NaN  \n13                   3         White     T-Shirt           M  \n15                   1         Black     T-Shirt           F  \n...                ...           ...         ...         ...  \n26496                1         Black     T-Shirt           F  \n26513                1         White     T-Shirt           F  \n26515                1           NaN      Hoodie         NaN  \n26540                4         White     T-Shirt           M  \n26548                1         White     T-Shirt           M  \n\n[12619 rows x 9 columns]",
      "text/html": "<div>\n<style scoped>\n    .dataframe tbody tr th:only-of-type {\n        vertical-align: middle;\n    }\n\n    .dataframe tbody tr th {\n        vertical-align: top;\n    }\n\n    .dataframe thead th {\n        text-align: right;\n    }\n</style>\n<table border=\"1\" class=\"dataframe\">\n  <thead>\n    <tr style=\"text-align: right;\">\n      <th></th>\n      <th>order_date</th>\n      <th>pages_visited</th>\n      <th>order_id</th>\n      <th>customer_id</th>\n      <th>tshirt_price</th>\n      <th>tshirt_quantity</th>\n      <th>tshirt_colour</th>\n      <th>tshirt_type</th>\n      <th>tshirt_size</th>\n    </tr>\n  </thead>\n  <tbody>\n    <tr>\n      <th>4</th>\n      <td>2015-10-22</td>\n      <td>12</td>\n      <td>HTS-88ua9r-0001</td>\n      <td>88ua9r</td>\n      <td>20.0</td>\n      <td>1</td>\n      <td>White</td>\n      <td>T-Shirt</td>\n      <td>M</td>\n    </tr>\n    <tr>\n      <th>5</th>\n      <td>2016-01-15</td>\n      <td>9</td>\n      <td>HTS-061311-0003</td>\n      <td>061311</td>\n      <td>17.5</td>\n      <td>4</td>\n      <td>Black</td>\n      <td>T-Shirt</td>\n      <td>F</td>\n    </tr>\n    <tr>\n      <th>12</th>\n      <td>2015-11-24</td>\n      <td>15</td>\n      <td>HTS-je57lh-0001</td>\n      <td>je57lh</td>\n      <td>23.0</td>\n      <td>3</td>\n      <td>NaN</td>\n      <td>Hoodie</td>\n      <td>NaN</td>\n    </tr>\n    <tr>\n      <th>13</th>\n      <td>2015-10-10</td>\n      <td>8</td>\n      <td>HTS-252675-0002</td>\n      <td>252675</td>\n      <td>20.0</td>\n      <td>3</td>\n      <td>White</td>\n      <td>T-Shirt</td>\n      <td>M</td>\n    </tr>\n    <tr>\n      <th>15</th>\n      <td>2015-11-29</td>\n      <td>15</td>\n      <td>HTS-heb26i-0001</td>\n      <td>heb26i</td>\n      <td>17.5</td>\n      <td>1</td>\n      <td>Black</td>\n      <td>T-Shirt</td>\n      <td>F</td>\n    </tr>\n    <tr>\n      <th>...</th>\n      <td>...</td>\n      <td>...</td>\n      <td>...</td>\n      <td>...</td>\n      <td>...</td>\n      <td>...</td>\n      <td>...</td>\n      <td>...</td>\n      <td>...</td>\n    </tr>\n    <tr>\n      <th>26496</th>\n      <td>2016-06-02</td>\n      <td>2</td>\n      <td>HTS-5b4bg6-0001</td>\n      <td>5b4bg6</td>\n      <td>17.5</td>\n      <td>1</td>\n      <td>Black</td>\n      <td>T-Shirt</td>\n      <td>F</td>\n    </tr>\n    <tr>\n      <th>26513</th>\n      <td>2016-07-05</td>\n      <td>12</td>\n      <td>HTS-bt08zd-0001</td>\n      <td>bt08zd</td>\n      <td>18.0</td>\n      <td>1</td>\n      <td>White</td>\n      <td>T-Shirt</td>\n      <td>F</td>\n    </tr>\n    <tr>\n      <th>26515</th>\n      <td>2016-07-27</td>\n      <td>17</td>\n      <td>HTS-gsc3f6-0001</td>\n      <td>gsc3f6</td>\n      <td>23.0</td>\n      <td>1</td>\n      <td>NaN</td>\n      <td>Hoodie</td>\n      <td>NaN</td>\n    </tr>\n    <tr>\n      <th>26540</th>\n      <td>2016-06-08</td>\n      <td>7</td>\n      <td>HTS-6ba0i0-0001</td>\n      <td>6ba0i0</td>\n      <td>20.0</td>\n      <td>4</td>\n      <td>White</td>\n      <td>T-Shirt</td>\n      <td>M</td>\n    </tr>\n    <tr>\n      <th>26548</th>\n      <td>2016-08-02</td>\n      <td>4</td>\n      <td>HTS-q0nm12-0001</td>\n      <td>q0nm12</td>\n      <td>20.0</td>\n      <td>1</td>\n      <td>White</td>\n      <td>T-Shirt</td>\n      <td>M</td>\n    </tr>\n  </tbody>\n</table>\n<p>12619 rows × 9 columns</p>\n</div>"
     },
     "execution_count": 18,
     "metadata": {},
     "output_type": "execute_result"
    }
   ],
   "source": [
    "# Zadanie 1e\n",
    "mask = (orders_df['order_date'] > '2014-12-31') & (orders_df['order_date'] <= '2016-08-02')\n",
    "orders_df.loc[mask]"
   ],
   "metadata": {
    "collapsed": false,
    "pycharm": {
     "name": "#%%\n"
    }
   }
  },
  {
   "cell_type": "markdown",
   "source": [
    "# Zadanie 2"
   ],
   "metadata": {
    "collapsed": false,
    "pycharm": {
     "name": "#%% md\n"
    }
   }
  },
  {
   "cell_type": "code",
   "execution_count": 19,
   "outputs": [
    {
     "data": {
      "text/plain": "Index(['customerID', 'gender', 'birthdate', 'user_agent', 'ip_address',\n       'campaign'],\n      dtype='object')"
     },
     "execution_count": 19,
     "metadata": {},
     "output_type": "execute_result"
    }
   ],
   "source": [
    "# Zadanie 2a\n",
    "customers_df.columns"
   ],
   "metadata": {
    "collapsed": false,
    "pycharm": {
     "name": "#%%\n"
    }
   }
  },
  {
   "cell_type": "code",
   "execution_count": 29,
   "outputs": [
    {
     "name": "stdout",
     "output_type": "stream",
     "text": [
      "<class 'pandas.core.frame.DataFrame'>\n",
      "RangeIndex: 18766 entries, 0 to 18765\n",
      "Data columns (total 6 columns):\n",
      " #   Column       Non-Null Count  Dtype \n",
      "---  ------       --------------  ----- \n",
      " 0   customer_id  18766 non-null  object\n",
      " 1   gender       16850 non-null  object\n",
      " 2   birthdate    18766 non-null  object\n",
      " 3   user_agent   18766 non-null  object\n",
      " 4   ip_address   18766 non-null  object\n",
      " 5   campaign     18766 non-null  bool  \n",
      "dtypes: bool(1), object(5)\n",
      "memory usage: 751.5+ KB\n"
     ]
    }
   ],
   "source": [
    "customers_df.info()"
   ],
   "metadata": {
    "collapsed": false,
    "pycharm": {
     "name": "#%%\n"
    }
   }
  },
  {
   "cell_type": "code",
   "execution_count": 20,
   "outputs": [
    {
     "data": {
      "text/plain": "       customerID gender birthdate  \\\ncount       18766  16850     18766   \nunique      18691      2     13278   \ntop        405669      M  1997/9/8   \nfreq            2   8533         7   \n\n                                               user_agent    ip_address  \\\ncount                                               18766         18766   \nunique                                                 20         18766   \ntop     Mozilla/5.0 (Windows NT 10.0; Win64; x64) Appl...  69.8.136.110   \nfreq                                                 2965             1   \n\n       campaign  \ncount     18766  \nunique        2  \ntop       False  \nfreq      14261  ",
      "text/html": "<div>\n<style scoped>\n    .dataframe tbody tr th:only-of-type {\n        vertical-align: middle;\n    }\n\n    .dataframe tbody tr th {\n        vertical-align: top;\n    }\n\n    .dataframe thead th {\n        text-align: right;\n    }\n</style>\n<table border=\"1\" class=\"dataframe\">\n  <thead>\n    <tr style=\"text-align: right;\">\n      <th></th>\n      <th>customerID</th>\n      <th>gender</th>\n      <th>birthdate</th>\n      <th>user_agent</th>\n      <th>ip_address</th>\n      <th>campaign</th>\n    </tr>\n  </thead>\n  <tbody>\n    <tr>\n      <th>count</th>\n      <td>18766</td>\n      <td>16850</td>\n      <td>18766</td>\n      <td>18766</td>\n      <td>18766</td>\n      <td>18766</td>\n    </tr>\n    <tr>\n      <th>unique</th>\n      <td>18691</td>\n      <td>2</td>\n      <td>13278</td>\n      <td>20</td>\n      <td>18766</td>\n      <td>2</td>\n    </tr>\n    <tr>\n      <th>top</th>\n      <td>405669</td>\n      <td>M</td>\n      <td>1997/9/8</td>\n      <td>Mozilla/5.0 (Windows NT 10.0; Win64; x64) Appl...</td>\n      <td>69.8.136.110</td>\n      <td>False</td>\n    </tr>\n    <tr>\n      <th>freq</th>\n      <td>2</td>\n      <td>8533</td>\n      <td>7</td>\n      <td>2965</td>\n      <td>1</td>\n      <td>14261</td>\n    </tr>\n  </tbody>\n</table>\n</div>"
     },
     "execution_count": 20,
     "metadata": {},
     "output_type": "execute_result"
    }
   ],
   "source": [
    "customers_df.describe()"
   ],
   "metadata": {
    "collapsed": false,
    "pycharm": {
     "name": "#%%\n"
    }
   }
  },
  {
   "cell_type": "code",
   "execution_count": 21,
   "outputs": [
    {
     "data": {
      "text/plain": "       pages_visited  tshirt_price  tshirt_quantity\ncount   26552.000000  26552.000000     26552.000000\nmean       10.838016     20.223768         2.693394\nstd         3.589299      2.220651         3.456182\nmin         2.000000     17.500000         1.000000\n25%         8.000000     18.000000         1.000000\n50%        11.000000     20.000000         2.000000\n75%        13.000000     23.000000         3.000000\nmax        28.000000     24.000000        29.000000",
      "text/html": "<div>\n<style scoped>\n    .dataframe tbody tr th:only-of-type {\n        vertical-align: middle;\n    }\n\n    .dataframe tbody tr th {\n        vertical-align: top;\n    }\n\n    .dataframe thead th {\n        text-align: right;\n    }\n</style>\n<table border=\"1\" class=\"dataframe\">\n  <thead>\n    <tr style=\"text-align: right;\">\n      <th></th>\n      <th>pages_visited</th>\n      <th>tshirt_price</th>\n      <th>tshirt_quantity</th>\n    </tr>\n  </thead>\n  <tbody>\n    <tr>\n      <th>count</th>\n      <td>26552.000000</td>\n      <td>26552.000000</td>\n      <td>26552.000000</td>\n    </tr>\n    <tr>\n      <th>mean</th>\n      <td>10.838016</td>\n      <td>20.223768</td>\n      <td>2.693394</td>\n    </tr>\n    <tr>\n      <th>std</th>\n      <td>3.589299</td>\n      <td>2.220651</td>\n      <td>3.456182</td>\n    </tr>\n    <tr>\n      <th>min</th>\n      <td>2.000000</td>\n      <td>17.500000</td>\n      <td>1.000000</td>\n    </tr>\n    <tr>\n      <th>25%</th>\n      <td>8.000000</td>\n      <td>18.000000</td>\n      <td>1.000000</td>\n    </tr>\n    <tr>\n      <th>50%</th>\n      <td>11.000000</td>\n      <td>20.000000</td>\n      <td>2.000000</td>\n    </tr>\n    <tr>\n      <th>75%</th>\n      <td>13.000000</td>\n      <td>23.000000</td>\n      <td>3.000000</td>\n    </tr>\n    <tr>\n      <th>max</th>\n      <td>28.000000</td>\n      <td>24.000000</td>\n      <td>29.000000</td>\n    </tr>\n  </tbody>\n</table>\n</div>"
     },
     "execution_count": 21,
     "metadata": {},
     "output_type": "execute_result"
    }
   ],
   "source": [
    "orders_df.describe()"
   ],
   "metadata": {
    "collapsed": false,
    "pycharm": {
     "name": "#%%\n"
    }
   }
  },
  {
   "cell_type": "code",
   "execution_count": 30,
   "outputs": [
    {
     "name": "stdout",
     "output_type": "stream",
     "text": [
      "<class 'pandas.core.frame.DataFrame'>\n",
      "RangeIndex: 26552 entries, 0 to 26551\n",
      "Data columns (total 9 columns):\n",
      " #   Column           Non-Null Count  Dtype         \n",
      "---  ------           --------------  -----         \n",
      " 0   order_date       26552 non-null  datetime64[ns]\n",
      " 1   pages_visited    26552 non-null  int64         \n",
      " 2   order_id         26552 non-null  object        \n",
      " 3   customer_id      26552 non-null  object        \n",
      " 4   tshirt_price     26552 non-null  float64       \n",
      " 5   tshirt_quantity  26552 non-null  int64         \n",
      " 6   tshirt_colour    18170 non-null  object        \n",
      " 7   tshirt_type      26552 non-null  object        \n",
      " 8   tshirt_size      18170 non-null  object        \n",
      "dtypes: datetime64[ns](1), float64(1), int64(2), object(5)\n",
      "memory usage: 1.8+ MB\n"
     ]
    }
   ],
   "source": [
    "orders_df.info()"
   ],
   "metadata": {
    "collapsed": false,
    "pycharm": {
     "name": "#%%\n"
    }
   }
  },
  {
   "cell_type": "code",
   "execution_count": 22,
   "outputs": [],
   "source": [
    "# Zadanie 2c\n",
    "customers_df.rename(columns={'customerID': 'customer_id'}, inplace=True)"
   ],
   "metadata": {
    "collapsed": false,
    "pycharm": {
     "name": "#%%\n"
    }
   }
  },
  {
   "cell_type": "code",
   "execution_count": 23,
   "outputs": [
    {
     "data": {
      "text/plain": "      customer_id gender   birthdate  \\\n0          886900      M   1953/10/5   \n1          038040      F  1946/12/21   \n2          698696      F   1983/12/1   \n3          sn9keh      M   1990/9/23   \n4          496907      M    1869/6/8   \n...           ...    ...         ...   \n18761      m1yyx6      M   1999/8/19   \n18762      744375      F  1941/10/22   \n18763      t6pxeo      F   1950/5/10   \n18764      930049      F  1979/10/22   \n18765      950728      M   1997/9/18   \n\n                                              user_agent       ip_address  \\\n0      Mozilla/5.0 (Windows NT 10.0; Win64; x64) Appl...     69.8.136.110   \n1      Mozilla/5.0 (Windows NT 10.0; WOW64) AppleWebK...    67.74.254.174   \n2      Mozilla/5.0 (Windows NT 6.3; WOW64) AppleWebKi...    95.135.70.206   \n3      Mozilla/5.0 (Macintosh; Intel Mac OS X 10_11_6...    129.50.205.26   \n4      Mozilla/5.0 (Windows NT 6.1; Win64; x64) Apple...     81.98.234.29   \n...                                                  ...              ...   \n18761  Mozilla/5.0 (Windows NT 6.1; WOW64) AppleWebKi...     95.142.4.155   \n18762  Mozilla/5.0 (Windows NT 6.1; Win64; x64) Apple...  119.219.176.225   \n18763  Mozilla/5.0 (X11; Linux x86_64) AppleWebKit/53...   196.178.254.85   \n18764  Mozilla/5.0 (Macintosh; Intel Mac OS X 10_12_3...   118.173.208.45   \n18765  Mozilla/5.0 (Macintosh; Intel Mac OS X 10_12_3...   171.178.68.155   \n\n       campaign  \n0         False  \n1         False  \n2         False  \n3         False  \n4         False  \n...         ...  \n18761      True  \n18762     False  \n18763     False  \n18764     False  \n18765     False  \n\n[18766 rows x 6 columns]",
      "text/html": "<div>\n<style scoped>\n    .dataframe tbody tr th:only-of-type {\n        vertical-align: middle;\n    }\n\n    .dataframe tbody tr th {\n        vertical-align: top;\n    }\n\n    .dataframe thead th {\n        text-align: right;\n    }\n</style>\n<table border=\"1\" class=\"dataframe\">\n  <thead>\n    <tr style=\"text-align: right;\">\n      <th></th>\n      <th>customer_id</th>\n      <th>gender</th>\n      <th>birthdate</th>\n      <th>user_agent</th>\n      <th>ip_address</th>\n      <th>campaign</th>\n    </tr>\n  </thead>\n  <tbody>\n    <tr>\n      <th>0</th>\n      <td>886900</td>\n      <td>M</td>\n      <td>1953/10/5</td>\n      <td>Mozilla/5.0 (Windows NT 10.0; Win64; x64) Appl...</td>\n      <td>69.8.136.110</td>\n      <td>False</td>\n    </tr>\n    <tr>\n      <th>1</th>\n      <td>038040</td>\n      <td>F</td>\n      <td>1946/12/21</td>\n      <td>Mozilla/5.0 (Windows NT 10.0; WOW64) AppleWebK...</td>\n      <td>67.74.254.174</td>\n      <td>False</td>\n    </tr>\n    <tr>\n      <th>2</th>\n      <td>698696</td>\n      <td>F</td>\n      <td>1983/12/1</td>\n      <td>Mozilla/5.0 (Windows NT 6.3; WOW64) AppleWebKi...</td>\n      <td>95.135.70.206</td>\n      <td>False</td>\n    </tr>\n    <tr>\n      <th>3</th>\n      <td>sn9keh</td>\n      <td>M</td>\n      <td>1990/9/23</td>\n      <td>Mozilla/5.0 (Macintosh; Intel Mac OS X 10_11_6...</td>\n      <td>129.50.205.26</td>\n      <td>False</td>\n    </tr>\n    <tr>\n      <th>4</th>\n      <td>496907</td>\n      <td>M</td>\n      <td>1869/6/8</td>\n      <td>Mozilla/5.0 (Windows NT 6.1; Win64; x64) Apple...</td>\n      <td>81.98.234.29</td>\n      <td>False</td>\n    </tr>\n    <tr>\n      <th>...</th>\n      <td>...</td>\n      <td>...</td>\n      <td>...</td>\n      <td>...</td>\n      <td>...</td>\n      <td>...</td>\n    </tr>\n    <tr>\n      <th>18761</th>\n      <td>m1yyx6</td>\n      <td>M</td>\n      <td>1999/8/19</td>\n      <td>Mozilla/5.0 (Windows NT 6.1; WOW64) AppleWebKi...</td>\n      <td>95.142.4.155</td>\n      <td>True</td>\n    </tr>\n    <tr>\n      <th>18762</th>\n      <td>744375</td>\n      <td>F</td>\n      <td>1941/10/22</td>\n      <td>Mozilla/5.0 (Windows NT 6.1; Win64; x64) Apple...</td>\n      <td>119.219.176.225</td>\n      <td>False</td>\n    </tr>\n    <tr>\n      <th>18763</th>\n      <td>t6pxeo</td>\n      <td>F</td>\n      <td>1950/5/10</td>\n      <td>Mozilla/5.0 (X11; Linux x86_64) AppleWebKit/53...</td>\n      <td>196.178.254.85</td>\n      <td>False</td>\n    </tr>\n    <tr>\n      <th>18764</th>\n      <td>930049</td>\n      <td>F</td>\n      <td>1979/10/22</td>\n      <td>Mozilla/5.0 (Macintosh; Intel Mac OS X 10_12_3...</td>\n      <td>118.173.208.45</td>\n      <td>False</td>\n    </tr>\n    <tr>\n      <th>18765</th>\n      <td>950728</td>\n      <td>M</td>\n      <td>1997/9/18</td>\n      <td>Mozilla/5.0 (Macintosh; Intel Mac OS X 10_12_3...</td>\n      <td>171.178.68.155</td>\n      <td>False</td>\n    </tr>\n  </tbody>\n</table>\n<p>18766 rows × 6 columns</p>\n</div>"
     },
     "execution_count": 23,
     "metadata": {},
     "output_type": "execute_result"
    }
   ],
   "source": [
    "customers_df"
   ],
   "metadata": {
    "collapsed": false,
    "pycharm": {
     "name": "#%%\n"
    }
   }
  },
  {
   "cell_type": "code",
   "execution_count": 24,
   "outputs": [],
   "source": [
    "# Zadanie 2d\n",
    "\"\"\"\n",
    "Tutaj użyjemy funkcji merge(), ponieważ jest ona odpowiednikiem klauzuli SQL Joins.\n",
    "Mamy możliwość wykonania złączenia left/right/outer/inner join.\n",
    "\n",
    "Możemy również użyć funkcji concat(), ale zazwyczaj jest ona używana do łączenia dwóch\n",
    "ramek danych poprzez dodawanie nowych wierszy jeden do drugiego.\n",
    "concat() może również łączyć dwa zbiory danych według kolumn,\n",
    "ale preferowanym sposobem jest merge (według dokumentacji)\n",
    "\n",
    "\"\"\"\n",
    "result = pd.merge(orders_df, customers_df, how='inner', on='customer_id')"
   ],
   "metadata": {
    "collapsed": false,
    "pycharm": {
     "name": "#%%\n"
    }
   }
  },
  {
   "cell_type": "code",
   "execution_count": 28,
   "outputs": [
    {
     "data": {
      "text/plain": "      order_date  pages_visited         order_id customer_id  tshirt_price  \\\n0     2016-09-04              9  HTS-038040-0002      038040          20.0   \n1     2014-06-04             13  HTS-038040-0001      038040          18.0   \n2     2014-11-14             11  HTS-801797-0001      801797          20.0   \n3     2015-10-22             12  HTS-801797-0002      801797          20.0   \n4     2017-02-26             10  HTS-vft1eu-0003      vft1eu          18.0   \n...          ...            ...              ...         ...           ...   \n25877 2016-11-02             11  HTS-762534-0001      762534          23.0   \n25878 2016-11-16              4  HTS-hrpv38-0001      hrpv38          20.0   \n25879 2014-07-12             16  HTS-978569-0001      978569          23.0   \n25880 2016-08-05             11  HTS-k0batl-0001      k0batl          20.0   \n25881 2017-03-13             11  HTS-200121-0001      200121          24.0   \n\n       tshirt_quantity tshirt_colour   tshirt_type tshirt_size gender  \\\n0                    1         White       T-Shirt           M      F   \n1                    1         White       T-Shirt           F      F   \n2                    1         White       T-Shirt           M      M   \n3                    2         White       T-Shirt           M      M   \n4                    3         White       T-Shirt           F      F   \n...                ...           ...           ...         ...    ...   \n25877                1           NaN        Hoodie         NaN      M   \n25878                3         White       T-Shirt           M      F   \n25879                1           NaN        Hoodie         NaN      M   \n25880                2         White       T-Shirt           M      M   \n25881                1           NaN  Tennis_Shirt         NaN      F   \n\n        birthdate                                         user_agent  \\\n0      1946/12/21  Mozilla/5.0 (Windows NT 10.0; WOW64) AppleWebK...   \n1      1946/12/21  Mozilla/5.0 (Windows NT 10.0; WOW64) AppleWebK...   \n2       1956/7/19  Mozilla/5.0 (Windows NT 10.0; Win64; x64) Appl...   \n3       1956/7/19  Mozilla/5.0 (Windows NT 10.0; Win64; x64) Appl...   \n4       1969/6/27  Mozilla/5.0 (Macintosh; Intel Mac OS X 10_12_3...   \n...           ...                                                ...   \n25877   1963/8/24  Mozilla/5.0 (Windows NT 10.0; WOW64) AppleWebK...   \n25878   1951/8/15  Mozilla/5.0 (Windows NT 6.1; WOW64) AppleWebKi...   \n25879  1986/11/19  Mozilla/5.0 (Windows NT 10.0; WOW64) AppleWebK...   \n25880    1959/2/6  Mozilla/5.0 (Macintosh; Intel Mac OS X 10_12_3...   \n25881   1969/8/22  Mozilla/5.0 (Macintosh; Intel Mac OS X 10_12_3...   \n\n            ip_address  campaign  \n0        67.74.254.174     False  \n1        67.74.254.174     False  \n2      137.155.219.158     False  \n3      137.155.219.158     False  \n4         53.115.6.106      True  \n...                ...       ...  \n25877     58.3.164.178      True  \n25878  118.210.235.250      True  \n25879    112.172.97.50     False  \n25880    174.226.65.20     False  \n25881     56.182.53.24     False  \n\n[25882 rows x 14 columns]",
      "text/html": "<div>\n<style scoped>\n    .dataframe tbody tr th:only-of-type {\n        vertical-align: middle;\n    }\n\n    .dataframe tbody tr th {\n        vertical-align: top;\n    }\n\n    .dataframe thead th {\n        text-align: right;\n    }\n</style>\n<table border=\"1\" class=\"dataframe\">\n  <thead>\n    <tr style=\"text-align: right;\">\n      <th></th>\n      <th>order_date</th>\n      <th>pages_visited</th>\n      <th>order_id</th>\n      <th>customer_id</th>\n      <th>tshirt_price</th>\n      <th>tshirt_quantity</th>\n      <th>tshirt_colour</th>\n      <th>tshirt_type</th>\n      <th>tshirt_size</th>\n      <th>gender</th>\n      <th>birthdate</th>\n      <th>user_agent</th>\n      <th>ip_address</th>\n      <th>campaign</th>\n    </tr>\n  </thead>\n  <tbody>\n    <tr>\n      <th>0</th>\n      <td>2016-09-04</td>\n      <td>9</td>\n      <td>HTS-038040-0002</td>\n      <td>038040</td>\n      <td>20.0</td>\n      <td>1</td>\n      <td>White</td>\n      <td>T-Shirt</td>\n      <td>M</td>\n      <td>F</td>\n      <td>1946/12/21</td>\n      <td>Mozilla/5.0 (Windows NT 10.0; WOW64) AppleWebK...</td>\n      <td>67.74.254.174</td>\n      <td>False</td>\n    </tr>\n    <tr>\n      <th>1</th>\n      <td>2014-06-04</td>\n      <td>13</td>\n      <td>HTS-038040-0001</td>\n      <td>038040</td>\n      <td>18.0</td>\n      <td>1</td>\n      <td>White</td>\n      <td>T-Shirt</td>\n      <td>F</td>\n      <td>F</td>\n      <td>1946/12/21</td>\n      <td>Mozilla/5.0 (Windows NT 10.0; WOW64) AppleWebK...</td>\n      <td>67.74.254.174</td>\n      <td>False</td>\n    </tr>\n    <tr>\n      <th>2</th>\n      <td>2014-11-14</td>\n      <td>11</td>\n      <td>HTS-801797-0001</td>\n      <td>801797</td>\n      <td>20.0</td>\n      <td>1</td>\n      <td>White</td>\n      <td>T-Shirt</td>\n      <td>M</td>\n      <td>M</td>\n      <td>1956/7/19</td>\n      <td>Mozilla/5.0 (Windows NT 10.0; Win64; x64) Appl...</td>\n      <td>137.155.219.158</td>\n      <td>False</td>\n    </tr>\n    <tr>\n      <th>3</th>\n      <td>2015-10-22</td>\n      <td>12</td>\n      <td>HTS-801797-0002</td>\n      <td>801797</td>\n      <td>20.0</td>\n      <td>2</td>\n      <td>White</td>\n      <td>T-Shirt</td>\n      <td>M</td>\n      <td>M</td>\n      <td>1956/7/19</td>\n      <td>Mozilla/5.0 (Windows NT 10.0; Win64; x64) Appl...</td>\n      <td>137.155.219.158</td>\n      <td>False</td>\n    </tr>\n    <tr>\n      <th>4</th>\n      <td>2017-02-26</td>\n      <td>10</td>\n      <td>HTS-vft1eu-0003</td>\n      <td>vft1eu</td>\n      <td>18.0</td>\n      <td>3</td>\n      <td>White</td>\n      <td>T-Shirt</td>\n      <td>F</td>\n      <td>F</td>\n      <td>1969/6/27</td>\n      <td>Mozilla/5.0 (Macintosh; Intel Mac OS X 10_12_3...</td>\n      <td>53.115.6.106</td>\n      <td>True</td>\n    </tr>\n    <tr>\n      <th>...</th>\n      <td>...</td>\n      <td>...</td>\n      <td>...</td>\n      <td>...</td>\n      <td>...</td>\n      <td>...</td>\n      <td>...</td>\n      <td>...</td>\n      <td>...</td>\n      <td>...</td>\n      <td>...</td>\n      <td>...</td>\n      <td>...</td>\n      <td>...</td>\n    </tr>\n    <tr>\n      <th>25877</th>\n      <td>2016-11-02</td>\n      <td>11</td>\n      <td>HTS-762534-0001</td>\n      <td>762534</td>\n      <td>23.0</td>\n      <td>1</td>\n      <td>NaN</td>\n      <td>Hoodie</td>\n      <td>NaN</td>\n      <td>M</td>\n      <td>1963/8/24</td>\n      <td>Mozilla/5.0 (Windows NT 10.0; WOW64) AppleWebK...</td>\n      <td>58.3.164.178</td>\n      <td>True</td>\n    </tr>\n    <tr>\n      <th>25878</th>\n      <td>2016-11-16</td>\n      <td>4</td>\n      <td>HTS-hrpv38-0001</td>\n      <td>hrpv38</td>\n      <td>20.0</td>\n      <td>3</td>\n      <td>White</td>\n      <td>T-Shirt</td>\n      <td>M</td>\n      <td>F</td>\n      <td>1951/8/15</td>\n      <td>Mozilla/5.0 (Windows NT 6.1; WOW64) AppleWebKi...</td>\n      <td>118.210.235.250</td>\n      <td>True</td>\n    </tr>\n    <tr>\n      <th>25879</th>\n      <td>2014-07-12</td>\n      <td>16</td>\n      <td>HTS-978569-0001</td>\n      <td>978569</td>\n      <td>23.0</td>\n      <td>1</td>\n      <td>NaN</td>\n      <td>Hoodie</td>\n      <td>NaN</td>\n      <td>M</td>\n      <td>1986/11/19</td>\n      <td>Mozilla/5.0 (Windows NT 10.0; WOW64) AppleWebK...</td>\n      <td>112.172.97.50</td>\n      <td>False</td>\n    </tr>\n    <tr>\n      <th>25880</th>\n      <td>2016-08-05</td>\n      <td>11</td>\n      <td>HTS-k0batl-0001</td>\n      <td>k0batl</td>\n      <td>20.0</td>\n      <td>2</td>\n      <td>White</td>\n      <td>T-Shirt</td>\n      <td>M</td>\n      <td>M</td>\n      <td>1959/2/6</td>\n      <td>Mozilla/5.0 (Macintosh; Intel Mac OS X 10_12_3...</td>\n      <td>174.226.65.20</td>\n      <td>False</td>\n    </tr>\n    <tr>\n      <th>25881</th>\n      <td>2017-03-13</td>\n      <td>11</td>\n      <td>HTS-200121-0001</td>\n      <td>200121</td>\n      <td>24.0</td>\n      <td>1</td>\n      <td>NaN</td>\n      <td>Tennis_Shirt</td>\n      <td>NaN</td>\n      <td>F</td>\n      <td>1969/8/22</td>\n      <td>Mozilla/5.0 (Macintosh; Intel Mac OS X 10_12_3...</td>\n      <td>56.182.53.24</td>\n      <td>False</td>\n    </tr>\n  </tbody>\n</table>\n<p>25882 rows × 14 columns</p>\n</div>"
     },
     "execution_count": 28,
     "metadata": {},
     "output_type": "execute_result"
    }
   ],
   "source": [
    "result"
   ],
   "metadata": {
    "collapsed": false,
    "pycharm": {
     "name": "#%%\n"
    }
   }
  },
  {
   "cell_type": "markdown",
   "source": [
    "# Zadanie 3"
   ],
   "metadata": {
    "collapsed": false,
    "pycharm": {
     "name": "#%% md\n"
    }
   }
  },
  {
   "cell_type": "code",
   "execution_count": 26,
   "outputs": [],
   "source": [
    "result.to_csv('DATA/cw5/cw5_outfile.csv', index=False)"
   ],
   "metadata": {
    "collapsed": false,
    "pycharm": {
     "name": "#%%\n"
    }
   }
  }
 ],
 "metadata": {
  "kernelspec": {
   "display_name": "Python 3 (ipykernel)",
   "language": "python",
   "name": "python3"
  },
  "language_info": {
   "codemirror_mode": {
    "name": "ipython",
    "version": 3
   },
   "file_extension": ".py",
   "mimetype": "text/x-python",
   "name": "python",
   "nbconvert_exporter": "python",
   "pygments_lexer": "ipython3",
   "version": "3.9.6"
  }
 },
 "nbformat": 4,
 "nbformat_minor": 5
}